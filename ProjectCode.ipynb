{
 "cells": [
  {
   "cell_type": "markdown",
   "metadata": {},
   "source": [
    "### Load in Data"
   ]
  },
  {
   "cell_type": "code",
   "execution_count": 59,
   "metadata": {},
   "outputs": [],
   "source": [
    "import pandas as pd\n",
    "import glob\n",
    "\n",
    "# Get a list of all cringe csv files\n",
    "cringe_list = glob.glob('Dataset(.csv)/CringeData/*.csv')\n",
    "cringe_list_size = len(cringe_list)\n",
    "\n",
    "# Initalize dataframe which will hold mergedcsv files\n",
    "cringeDF = pd.DataFrame()\n",
    "\n",
    "# Go through list and give each file a videoID and label of 0\n",
    "for i in range(0, cringe_list_size):\n",
    "    tempDF = pd.read_csv(cringe_list[i])\n",
    "    tempDF['video_id'] = str(i) + 'c'\n",
    "    tempDF['label'] = 0\n",
    "    \n",
    "    # Merge file into cringeDF\n",
    "    cringeDF= cringeDF.append(tempDF)\n",
    "    \n",
    "    # Reset index\n",
    "    cringeDF.reset_index()\n",
    "\n",
    "    \n",
    "# Get a list of all pain csv files\n",
    "pain_list = glob.glob('Dataset(.csv)/PainData/*.csv')\n",
    "pain_list_size = len(pain_list)\n",
    "\n",
    "# Initialize dataframe which will hold merged csv files\n",
    "painDF = pd.DataFrame()\n",
    "\n",
    "# Go through list and give each file a videoID and label of 1\n",
    "for i in range(0, pain_list_size):\n",
    "    tempDF = pd.read_csv(pain_list[i])\n",
    "    tempDF['video_id'] = str(i) + 'p'\n",
    "    tempDF['label'] = 1\n",
    "    \n",
    "    # Merge file into cringeDF\n",
    "    painDF= painDF.append(tempDF)\n",
    "    \n",
    "    # Reset index\n",
    "    painDF.reset_index()\n",
    "            "
   ]
  },
  {
   "cell_type": "markdown",
   "metadata": {},
   "source": [
    "### Clean Data and Select Features"
   ]
  },
  {
   "cell_type": "code",
   "execution_count": 60,
   "metadata": {},
   "outputs": [],
   "source": [
    "from sklearn.preprocessing import StandardScaler\n",
    "\n",
    "# Filter out unsuccessful and low confidence frames\n",
    "cringeDF = cringeDF.loc[cringeDF['confidence'] > 0.8]\n",
    "cringeDF = cringeDF.loc[cringeDF['success'] == 1]\n",
    "\n",
    "painDF = painDF.loc[painDF['confidence'] > 0.8] \n",
    "painDF = painDF.loc[painDF['success'] == 1]\n",
    "\n",
    "# Merge all csv entries and all cols\n",
    "combinedDF = cringeDF.append(painDF)\n",
    "combinedDF = combinedDF.reset_index()\n",
    "\n",
    "# Only select AU intensities\n",
    "feature_list = ['AU01_r', 'AU02_r', 'AU04_r', 'AU05_r', 'AU06_r', 'AU07_r',\n",
    "                'AU09_r', 'AU10_r', 'AU12_r', 'AU14_r', 'AU15_r', 'AU17_r',\n",
    "                'AU20_r', 'AU23_r', 'AU25_r', 'AU26_r', 'AU45_r']\n",
    "\n",
    "featuresDF = combinedDF.loc[:,feature_list]\n",
    "\n",
    "# Standardize data\n",
    "standardScaler = StandardScaler()\n",
    "featuresDF = standardScaler.fit_transform(featuresDF)"
   ]
  },
  {
   "cell_type": "markdown",
   "metadata": {},
   "source": [
    "### Use PCA for Visualization"
   ]
  },
  {
   "cell_type": "code",
   "execution_count": 61,
   "metadata": {},
   "outputs": [
    {
     "name": "stdout",
     "output_type": "stream",
     "text": [
      "The explained variance of two components:  [0.19636346 0.12467418]\n"
     ]
    },
    {
     "data": {
      "text/html": [
       "<div>\n",
       "<style scoped>\n",
       "    .dataframe tbody tr th:only-of-type {\n",
       "        vertical-align: middle;\n",
       "    }\n",
       "\n",
       "    .dataframe tbody tr th {\n",
       "        vertical-align: top;\n",
       "    }\n",
       "\n",
       "    .dataframe thead th {\n",
       "        text-align: right;\n",
       "    }\n",
       "</style>\n",
       "<table border=\"1\" class=\"dataframe\">\n",
       "  <thead>\n",
       "    <tr style=\"text-align: right;\">\n",
       "      <th></th>\n",
       "      <th>principal component 1</th>\n",
       "      <th>principal component 2</th>\n",
       "    </tr>\n",
       "  </thead>\n",
       "  <tbody>\n",
       "    <tr>\n",
       "      <td>0</td>\n",
       "      <td>2.261320</td>\n",
       "      <td>-0.847742</td>\n",
       "    </tr>\n",
       "    <tr>\n",
       "      <td>1</td>\n",
       "      <td>2.142085</td>\n",
       "      <td>-1.383729</td>\n",
       "    </tr>\n",
       "    <tr>\n",
       "      <td>2</td>\n",
       "      <td>2.059993</td>\n",
       "      <td>-1.663526</td>\n",
       "    </tr>\n",
       "    <tr>\n",
       "      <td>3</td>\n",
       "      <td>1.952885</td>\n",
       "      <td>-1.761905</td>\n",
       "    </tr>\n",
       "    <tr>\n",
       "      <td>4</td>\n",
       "      <td>2.017406</td>\n",
       "      <td>-1.828222</td>\n",
       "    </tr>\n",
       "    <tr>\n",
       "      <td>...</td>\n",
       "      <td>...</td>\n",
       "      <td>...</td>\n",
       "    </tr>\n",
       "    <tr>\n",
       "      <td>10404</td>\n",
       "      <td>-2.161814</td>\n",
       "      <td>-0.014878</td>\n",
       "    </tr>\n",
       "    <tr>\n",
       "      <td>10405</td>\n",
       "      <td>-2.194161</td>\n",
       "      <td>0.016014</td>\n",
       "    </tr>\n",
       "    <tr>\n",
       "      <td>10406</td>\n",
       "      <td>-2.160493</td>\n",
       "      <td>0.122005</td>\n",
       "    </tr>\n",
       "    <tr>\n",
       "      <td>10407</td>\n",
       "      <td>-2.166608</td>\n",
       "      <td>-0.059520</td>\n",
       "    </tr>\n",
       "    <tr>\n",
       "      <td>10408</td>\n",
       "      <td>-2.229408</td>\n",
       "      <td>-0.310143</td>\n",
       "    </tr>\n",
       "  </tbody>\n",
       "</table>\n",
       "<p>10409 rows × 2 columns</p>\n",
       "</div>"
      ],
      "text/plain": [
       "       principal component 1  principal component 2\n",
       "0                   2.261320              -0.847742\n",
       "1                   2.142085              -1.383729\n",
       "2                   2.059993              -1.663526\n",
       "3                   1.952885              -1.761905\n",
       "4                   2.017406              -1.828222\n",
       "...                      ...                    ...\n",
       "10404              -2.161814              -0.014878\n",
       "10405              -2.194161               0.016014\n",
       "10406              -2.160493               0.122005\n",
       "10407              -2.166608              -0.059520\n",
       "10408              -2.229408              -0.310143\n",
       "\n",
       "[10409 rows x 2 columns]"
      ]
     },
     "execution_count": 61,
     "metadata": {},
     "output_type": "execute_result"
    }
   ],
   "source": [
    "from sklearn.decomposition import PCA\n",
    "\n",
    "# Initialize PCA and choose number of componenets to keep\n",
    "pca = PCA(n_components=2)\n",
    "\n",
    "# Conduct PCA to reduce to two components\n",
    "reducedDimensions = pca.fit_transform(featuresDF)\n",
    "\n",
    "print(\"The explained variance of two components: \", pca.explained_variance_ratio_) \n",
    "\n",
    "# Create a df of the two components\n",
    "pcaDF = pd.DataFrame(data = reducedDimensions, columns = ['principal component 1', 'principal component 2'])\n",
    "\n",
    "pcaDF"
   ]
  },
  {
   "cell_type": "markdown",
   "metadata": {},
   "source": [
    "### GMM Covariance Selection"
   ]
  },
  {
   "cell_type": "code",
   "execution_count": 62,
   "metadata": {},
   "outputs": [
    {
     "name": "stdout",
     "output_type": "stream",
     "text": [
      "The best covariance for k=2 is: full\n"
     ]
    }
   ],
   "source": [
    "# Using scikit-learn code from: \n",
    "# https://scikit-learn.org/stable/auto_examples/mixture/plot_gmm_selection.html#sphx-glr-auto-examples-mixture-plot-gmm-selection-py\n",
    "\n",
    "from sklearn import mixture\n",
    "\n",
    "X = pcaDF\n",
    "lowest_bic = np.infty\n",
    "bic = []\n",
    "cv_types = [\"spherical\", \"tied\", \"diag\", \"full\"]\n",
    "for cv_type in cv_types:\n",
    "    # Fit a Gaussian mixture with EM\n",
    "    gmm = mixture.GaussianMixture(\n",
    "        n_components=2, covariance_type=cv_type\n",
    "    )\n",
    "    gmm.fit(X)\n",
    "    bic.append(gmm.bic(X))\n",
    "    if bic[-1] < lowest_bic:\n",
    "        lowest_bic = bic[-1]\n",
    "        best_gmm = cv_type\n",
    "        \n",
    "print(\"The best covariance for k=2 is:\",best_gmm)\n"
   ]
  },
  {
   "cell_type": "markdown",
   "metadata": {},
   "source": [
    "### GMM Clustering Visualization"
   ]
  },
  {
   "cell_type": "code",
   "execution_count": 63,
   "metadata": {},
   "outputs": [
    {
     "data": {
      "text/plain": [
       "<matplotlib.collections.PathCollection at 0x7ffe6251d9d0>"
      ]
     },
     "execution_count": 63,
     "metadata": {},
     "output_type": "execute_result"
    },
    {
     "data": {
      "image/png": "[encoded data removed]",
      "text/plain": [
       "<Figure size 1440x720 with 1 Axes>"
      ]
     },
     "metadata": {
      "needs_background": "light"
     },
     "output_type": "display_data"
    }
   ],
   "source": [
    "# Using scikit-learn code from: \n",
    "# https://scikit-learn.org/stable/auto_examples/mixture/plot_gmm_selection.html#sphx-glr-auto-examples-mixture-plot-gmm-selection-py\n",
    "import numpy as np\n",
    "import matplotlib.pyplot as plt\n",
    "\n",
    "\n",
    "from sklearn import mixture\n",
    "\n",
    "gmm = mixture.GaussianMixture(\n",
    "        n_components=2, covariance_type=\"full\"\n",
    "    )\n",
    "gmm.fit(X)\n",
    "labels = gmm.predict(X)\n",
    "\n",
    "#filter rows of original data (https://www.askpython.com/python/examples/plot-k-means-clusters-python)\n",
    "filtered_label0 = pcaDF[labels == 0]\n",
    "filtered_label1 = pcaDF[labels == 1]\n",
    "\n",
    "#Plotting the results (https://www.askpython.com/python/examples/plot-k-means-clusters-python)\n",
    "plt.figure(figsize=(20, 10))\n",
    "plt.scatter(filtered_label0['principal component 1'] , filtered_label0['principal component 2'], color = 'red')\n",
    "plt.scatter(filtered_label1['principal component 1'] , filtered_label1['principal component 2'] , color = 'blue')\n"
   ]
  },
  {
   "cell_type": "code",
   "execution_count": null,
   "metadata": {},
   "outputs": [],
   "source": []
  }
 ],
 "metadata": {
  "kernelspec": {
   "display_name": "Python 3",
   "language": "python",
   "name": "python3"
  },
  "language_info": {
   "codemirror_mode": {
    "name": "ipython",
    "version": 3
   },
   "file_extension": ".py",
   "mimetype": "text/x-python",
   "name": "python",
   "nbconvert_exporter": "python",
   "pygments_lexer": "ipython3",
   "version": "3.7.4"
  }
 },
 "nbformat": 4,
 "nbformat_minor": 2
}
